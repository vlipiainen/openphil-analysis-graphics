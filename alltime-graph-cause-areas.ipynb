{
 "cells": [
  {
   "cell_type": "code",
   "execution_count": 1,
   "metadata": {},
   "outputs": [],
   "source": [
    "import pandas as pd\n",
    "from plotnine import *\n",
    "from datetime import date\n",
    "from pathlib import Path"
   ]
  },
  {
   "cell_type": "code",
   "execution_count": 2,
   "metadata": {},
   "outputs": [],
   "source": [
    "# Read data from openphil. 403 if storage_options are not filled\n",
    "data_url = \"https://www.openphilanthropy.org/giving/grants/spreadsheet\"\n",
    "storage_options = {'User-Agent': 'Mozilla/5.0'}\n",
    "\n",
    "df = pd.read_csv(data_url, storage_options=storage_options)"
   ]
  },
  {
   "cell_type": "code",
   "execution_count": 3,
   "metadata": {},
   "outputs": [],
   "source": [
    "# Convert amounts to numbers, dates to a date type, and add column for year\n",
    "df[\"Amount\"] = df[\"Amount\"].replace(\"[$,]\", \"\", regex=True).astype(float)\n",
    "df['Date'] = pd.to_datetime(df['Date'])\n",
    "df[\"year\"] = pd.DatetimeIndex(df['Date']).year"
   ]
  },
  {
   "cell_type": "code",
   "execution_count": 5,
   "metadata": {},
   "outputs": [],
   "source": [
    "# Sum amounts per Focus Area\n",
    "df = (df.groupby([\"Focus Area\", \"year\"])[\"Amount\"]\n",
    "        .sum().reset_index()\n",
    "        .sort_values(\"Amount\").reset_index(drop=True)\n",
    ")\n",
    "\n",
    "# Calculate amounts in millions\n",
    "df[\"amount_millions\"] = df[\"Amount\"].div(10**6)"
   ]
  },
  {
   "cell_type": "code",
   "execution_count": 6,
   "metadata": {},
   "outputs": [],
   "source": [
    "# Make columns categorical in reasonable order for nicer plotting\n",
    "df['Focus Area'] = pd.Categorical(df[\"Focus Area\"], categories=pd.unique(df[\"Focus Area\"]), ordered=True)\n",
    "df['year'] = pd.Categorical(df[\"year\"], ordered=True)\n",
    "df = df.sort_values('year')"
   ]
  },
  {
   "cell_type": "code",
   "execution_count": 7,
   "metadata": {},
   "outputs": [],
   "source": [
    "base_graph = (\n",
    "     ggplot(df, aes(x=\"Focus Area\", y=\"amount_millions\")) + \n",
    "     geom_bar(stat=\"identity\", fill=\"#0c869b\") +\n",
    "     coord_flip() +\n",
    "     ylab(\"Total grants (Million $)\") +\n",
    "     ggtitle(f\"Openphil funding by Focus Area, up until {date.today()}\")\n",
    ")"
   ]
  },
  {
   "cell_type": "code",
   "execution_count": null,
   "metadata": {},
   "outputs": [],
   "source": [
    "normal_graph = (\n",
    "    base_graph + \n",
    "    theme(aspect_ratio = 1) + \n",
    "    geom_text(aes(label=\"amount_millions\"), color = '#555555', ha = \"left\", format_string = \"{:.1f}\", nudge_y = 1) +\n",
    "    scale_y_continuous(expand=(0,0,0.2,0)) \n",
    ")\n",
    "\n",
    "normal_graph"
   ]
  },
  {
   "cell_type": "code",
   "execution_count": null,
   "metadata": {},
   "outputs": [],
   "source": [
    "log_graph = (\n",
    "    base_graph +\n",
    "    scale_y_log10(expand=(0,0,0.15,0)) + \n",
    "    ylab(\"Total grants (Million $, log scale)\") + \n",
    "    theme(aspect_ratio = 1) + \n",
    "    geom_text(aes(label=\"amount_millions\"), color = '#555555', ha = \"left\", format_string = \"{:.1f}\")\n",
    ")\n",
    "\n",
    "log_graph"
   ]
  },
  {
   "cell_type": "code",
   "execution_count": null,
   "metadata": {},
   "outputs": [],
   "source": [
    "Path(\"pngs\").mkdir(parents=True, exist_ok=True)\n",
    "name = \"alltime-graph-cause-areas\"\n",
    "normal_graph.save(f'pngs/{name}.png')\n",
    "log_graph.save(f'pngs/{name}_log_scale.png')"
   ]
  }
 ],
 "metadata": {
  "kernelspec": {
   "display_name": "Python 3 (ipykernel)",
   "language": "python",
   "name": "python3"
  },
  "language_info": {
   "codemirror_mode": {
    "name": "ipython",
    "version": 3
   },
   "file_extension": ".py",
   "mimetype": "text/x-python",
   "name": "python",
   "nbconvert_exporter": "python",
   "pygments_lexer": "ipython3",
   "version": "3.9.10"
  }
 },
 "nbformat": 4,
 "nbformat_minor": 2
}
