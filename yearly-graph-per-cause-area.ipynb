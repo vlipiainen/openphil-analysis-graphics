{
 "cells": [
  {
   "cell_type": "code",
   "execution_count": 1,
   "metadata": {},
   "outputs": [],
   "source": [
    "import pandas as pd\n",
    "from plotnine import *\n",
    "from pathlib import Path"
   ]
  },
  {
   "cell_type": "code",
   "execution_count": 2,
   "metadata": {},
   "outputs": [],
   "source": [
    "# Read data from openphil. 403 if storage_options are not filled\n",
    "data_url = \"https://www.openphilanthropy.org/giving/grants/spreadsheet\"\n",
    "storage_options = {'User-Agent': 'Mozilla/5.0'}\n",
    "\n",
    "df = pd.read_csv(data_url, storage_options=storage_options)"
   ]
  },
  {
   "cell_type": "code",
   "execution_count": 3,
   "metadata": {},
   "outputs": [],
   "source": [
    "# Convert amounts to numbers, dates to a date type, and add column for year\n",
    "df[\"Amount\"] = df[\"Amount\"].replace(\"[$,]\", \"\", regex=True).astype(float)\n",
    "df['Date'] = pd.to_datetime(df['Date'])\n",
    "df[\"year\"] = pd.DatetimeIndex(df['Date']).year"
   ]
  },
  {
   "cell_type": "code",
   "execution_count": 4,
   "metadata": {},
   "outputs": [],
   "source": [
    "# Filter out data for just this year\n",
    "year = 2021\n",
    "df = df[(df[\"Date\"] >= f'{year}-01-01') & (df[\"Date\"] < f'{year + 1}-01-01')]"
   ]
  },
  {
   "cell_type": "code",
   "execution_count": 5,
   "metadata": {},
   "outputs": [],
   "source": [
    "# Sum amounts per Focus Area\n",
    "df = (df.groupby([\"Focus Area\", \"year\"])[\"Amount\"]\n",
    "        .sum().reset_index()\n",
    "        .sort_values(\"Amount\").reset_index(drop=True)\n",
    ")\n",
    "\n",
    "# Calculate amounts in millions\n",
    "df[\"amount_millions\"] = df[\"Amount\"].div(10**6)"
   ]
  },
  {
   "cell_type": "code",
   "execution_count": 6,
   "metadata": {},
   "outputs": [],
   "source": [
    "# Make columns categorical in reasonable order for nicer plotting\n",
    "df['Focus Area'] = pd.Categorical(df[\"Focus Area\"], categories=pd.unique(df[\"Focus Area\"]), ordered=True)\n",
    "df['year'] = pd.Categorical(df[\"year\"], ordered=True)\n",
    "df = df.sort_values('year')"
   ]
  },
  {
   "cell_type": "code",
   "execution_count": null,
   "metadata": {},
   "outputs": [],
   "source": [
    "g = (ggplot(df, aes(x=\"Focus Area\", y=\"amount_millions\")) + \n",
    "     geom_col() +\n",
    "     coord_flip() +\n",
    "     ylab(\"Total grants (Million $)\") +\n",
    "     ggtitle(f\"Openphil funding in {year} by Focus Area\")\n",
    ")\n",
    "\n",
    "g"
   ]
  },
  {
   "cell_type": "code",
   "execution_count": null,
   "metadata": {},
   "outputs": [],
   "source": [
    "g_log = g + scale_y_log10() + ylab(\"Total grants (Million $, log scale)\")\n",
    "\n",
    "g_log"
   ]
  },
  {
   "cell_type": "code",
   "execution_count": null,
   "metadata": {},
   "outputs": [],
   "source": [
    "Path(\"pngs\").mkdir(parents=True, exist_ok=True)\n",
    "name = \"alltime-graph-cause-areas\"\n",
    "g.save(f'pngs/{name}.png')\n",
    "g_log.save(f'pngs/{name}_log_scale.png')"
   ]
  }
 ],
 "metadata": {
  "kernelspec": {
   "display_name": "Python 3 (ipykernel)",
   "language": "python",
   "name": "python3"
  },
  "language_info": {
   "codemirror_mode": {
    "name": "ipython",
    "version": 3
   },
   "file_extension": ".py",
   "mimetype": "text/x-python",
   "name": "python",
   "nbconvert_exporter": "python",
   "pygments_lexer": "ipython3",
   "version": "3.9.10"
  }
 },
 "nbformat": 4,
 "nbformat_minor": 2
}
